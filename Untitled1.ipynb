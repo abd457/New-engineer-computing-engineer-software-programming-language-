{
 "cells": [
  {
   "cell_type": "code",
   "execution_count": null,
   "id": "56e3f183-a651-444c-aebd-a357de072ea7",
   "metadata": {},
   "outputs": [],
   "source": [
    "from sklearn import dataset \n",
    "\n",
    "irics =Dataset.load_iric()\n",
    "print (iri . target _"
   ]
  }
 ],
 "metadata": {
  "kernelspec": {
   "display_name": "Python 3 (ipykernel)",
   "language": "python",
   "name": "python3"
  },
  "language_info": {
   "codemirror_mode": {
    "name": "ipython",
    "version": 3
   },
   "file_extension": ".py",
   "mimetype": "text/x-python",
   "name": "python",
   "nbconvert_exporter": "python",
   "pygments_lexer": "ipython3",
   "version": "3.10.4"
  }
 },
 "nbformat": 4,
 "nbformat_minor": 5
}
